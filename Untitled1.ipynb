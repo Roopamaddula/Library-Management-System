{
 "cells": [
  {
   "cell_type": "code",
   "execution_count": null,
   "id": "c37314d1",
   "metadata": {},
   "outputs": [],
   "source": [
    "from datetime import date, datetime\n",
    "from tkinter import *\n",
    "from tkinter import messagebox\n",
    "import mysql.connector\n",
    "from mysql.connector import Error\n",
    "import os\n",
    "import sys\n",
    "py = sys.executable\n",
    "\n",
    "import smtplib, ssl\n",
    "from email.mime.text import MIMEText\n",
    "from email.mime.multipart import MIMEMultipart\n",
    "\n",
    "sender_email = \"tejeshraorb@gmail.com\"\n",
    "password = \"ujvrgalecmndvgms\"\n",
    "\n",
    "def send_email(receiver_email, subject, body_text ):\n",
    "    message = MIMEMultipart(\"alternative\")\n",
    "    message[\"Subject\"] = subject\n",
    "    message[\"From\"] = sender_email\n",
    "    message[\"To\"] = receiver_email\n",
    "\n",
    "    \n",
    "\n",
    "    part1 = MIMEText(body_text, \"plain\")\n",
    "\n",
    "    message.attach(part1)\n",
    "\n",
    "    context = ssl.create_default_context()\n",
    "    \n",
    "    try:\n",
    "        with smtplib.SMTP_SSL(\"smtp.gmail.com\", 465, context=context) as server:\n",
    "            server.login(sender_email, password)\n",
    "            server.sendmail(sender_email, receiver_email, message.as_string())\n",
    "    except Exception as e:\n",
    "        messagebox.showerror(\"Error occurred while sending email:\", e)"
   ]
  },
  {
   "cell_type": "code",
   "execution_count": null,
   "id": "8042c6bd",
   "metadata": {},
   "outputs": [],
   "source": [
    "send_email(\"uellmsgroup9@gmail.com\", \"Hi again\", \"Bye again\" )"
   ]
  },
  {
   "cell_type": "code",
   "execution_count": null,
   "id": "bff3be55",
   "metadata": {},
   "outputs": [],
   "source": []
  }
 ],
 "metadata": {
  "kernelspec": {
   "display_name": "Python 3",
   "language": "python",
   "name": "python3"
  },
  "language_info": {
   "codemirror_mode": {
    "name": "ipython",
    "version": 3
   },
   "file_extension": ".py",
   "mimetype": "text/x-python",
   "name": "python",
   "nbconvert_exporter": "python",
   "pygments_lexer": "ipython3",
   "version": "3.9.4"
  }
 },
 "nbformat": 4,
 "nbformat_minor": 5
}
